{
 "cells": [
  {
   "cell_type": "code",
   "execution_count": 1,
   "metadata": {
    "colab": {
     "base_uri": "https://localhost:8080/",
     "height": 34
    },
    "colab_type": "code",
    "id": "N1174ZAOqvyo",
    "outputId": "5a28a8c9-a48d-402d-f0db-a5690f272aa4"
   },
   "outputs": [
    {
     "name": "stderr",
     "output_type": "stream",
     "text": [
      "UsageError: Line magic function `%tensorflow_version` not found.\n"
     ]
    }
   ],
   "source": [
    "%tensorflow_version 1.x"
   ]
  },
  {
   "cell_type": "markdown",
   "metadata": {
    "colab_type": "text",
    "id": "WjKX7h16glKA"
   },
   "source": [
    "# Steps to build a Neural Network using Keras\n",
    "\n",
    "<ol>1. Loading the dataset</ol>\n",
    "<ol>2. Creating training and validation set</ol>\n",
    "<ol>3. Defining the architecture of the model</ol>\n",
    "<ol>4. Compiling the model (defining loss function, optimizer)</ol>\n",
    "<ol>5. Training the model</ol>\n",
    "<ol>6. Evaluating model performance on training and validation set</ol>"
   ]
  },
  {
   "cell_type": "markdown",
   "metadata": {
    "colab_type": "text",
    "id": "56f3bnnIglKI"
   },
   "source": [
    "## 1. Loading the dataset"
   ]
  },
  {
   "cell_type": "code",
   "execution_count": 2,
   "metadata": {
    "colab": {},
    "colab_type": "code",
    "id": "as3tljzfglKN"
   },
   "outputs": [],
   "source": [
    "# importing the required libraries\n",
    "import pandas as pd\n",
    "import numpy as np\n",
    "import sklearn\n",
    "from sklearn.model_selection import train_test_split\n",
    "from sklearn.metrics import accuracy_score\n",
    "import matplotlib.pyplot as plt\n",
    "%matplotlib inline"
   ]
  },
  {
   "cell_type": "code",
   "execution_count": 3,
   "metadata": {
    "colab": {
     "base_uri": "https://localhost:8080/",
     "height": 34
    },
    "colab_type": "code",
    "id": "Bzp09t1S_07z",
    "outputId": "36299c21-5a1c-48a2-801b-2116013119e7"
   },
   "outputs": [
    {
     "name": "stdout",
     "output_type": "stream",
     "text": [
      "Version of sklearn: 0.24.1\n"
     ]
    }
   ],
   "source": [
    "# check version on sklearn\n",
    "print('Version of sklearn:', sklearn.__version__)"
   ]
  },
  {
   "cell_type": "code",
   "execution_count": 5,
   "metadata": {
    "colab": {},
    "colab_type": "code",
    "id": "UXQcz5rtglKe"
   },
   "outputs": [],
   "source": [
    "# loading the pre-processed dataset\n",
    "data = pd.read_csv('C:/users/parit/Internship/Data/Loan data/loan_prediction_data_new.csv')"
   ]
  },
  {
   "cell_type": "code",
   "execution_count": 6,
   "metadata": {
    "colab": {
     "base_uri": "https://localhost:8080/",
     "height": 226
    },
    "colab_type": "code",
    "id": "ntuq8jfzglKp",
    "outputId": "ee3cd3ba-0f54-4435-b81b-6e25347f2138",
    "scrolled": false
   },
   "outputs": [
    {
     "data": {
      "text/html": [
       "<div>\n",
       "<style scoped>\n",
       "    .dataframe tbody tr th:only-of-type {\n",
       "        vertical-align: middle;\n",
       "    }\n",
       "\n",
       "    .dataframe tbody tr th {\n",
       "        vertical-align: top;\n",
       "    }\n",
       "\n",
       "    .dataframe thead th {\n",
       "        text-align: right;\n",
       "    }\n",
       "</style>\n",
       "<table border=\"1\" class=\"dataframe\">\n",
       "  <thead>\n",
       "    <tr style=\"text-align: right;\">\n",
       "      <th></th>\n",
       "      <th>Loan_ID</th>\n",
       "      <th>Gender</th>\n",
       "      <th>Married</th>\n",
       "      <th>Dependents</th>\n",
       "      <th>Education</th>\n",
       "      <th>Self_Employed</th>\n",
       "      <th>ApplicantIncome</th>\n",
       "      <th>CoapplicantIncome</th>\n",
       "      <th>LoanAmount</th>\n",
       "      <th>Loan_Amount_Term</th>\n",
       "      <th>Credit_History</th>\n",
       "      <th>Property_Area</th>\n",
       "      <th>Loan_Status</th>\n",
       "    </tr>\n",
       "  </thead>\n",
       "  <tbody>\n",
       "    <tr>\n",
       "      <th>0</th>\n",
       "      <td>LP001002</td>\n",
       "      <td>0.0</td>\n",
       "      <td>0.0</td>\n",
       "      <td>0.000000</td>\n",
       "      <td>1.0</td>\n",
       "      <td>0.0</td>\n",
       "      <td>0.070489</td>\n",
       "      <td>0.000000</td>\n",
       "      <td>0.198860</td>\n",
       "      <td>0.74359</td>\n",
       "      <td>1.0</td>\n",
       "      <td>1.0</td>\n",
       "      <td>1.0</td>\n",
       "    </tr>\n",
       "    <tr>\n",
       "      <th>1</th>\n",
       "      <td>LP001003</td>\n",
       "      <td>0.0</td>\n",
       "      <td>1.0</td>\n",
       "      <td>0.333333</td>\n",
       "      <td>1.0</td>\n",
       "      <td>0.0</td>\n",
       "      <td>0.054830</td>\n",
       "      <td>0.036192</td>\n",
       "      <td>0.172214</td>\n",
       "      <td>0.74359</td>\n",
       "      <td>1.0</td>\n",
       "      <td>0.0</td>\n",
       "      <td>0.0</td>\n",
       "    </tr>\n",
       "    <tr>\n",
       "      <th>2</th>\n",
       "      <td>LP001005</td>\n",
       "      <td>0.0</td>\n",
       "      <td>1.0</td>\n",
       "      <td>0.000000</td>\n",
       "      <td>1.0</td>\n",
       "      <td>1.0</td>\n",
       "      <td>0.035250</td>\n",
       "      <td>0.000000</td>\n",
       "      <td>0.082489</td>\n",
       "      <td>0.74359</td>\n",
       "      <td>1.0</td>\n",
       "      <td>1.0</td>\n",
       "      <td>1.0</td>\n",
       "    </tr>\n",
       "    <tr>\n",
       "      <th>3</th>\n",
       "      <td>LP001006</td>\n",
       "      <td>0.0</td>\n",
       "      <td>1.0</td>\n",
       "      <td>0.000000</td>\n",
       "      <td>0.0</td>\n",
       "      <td>0.0</td>\n",
       "      <td>0.030093</td>\n",
       "      <td>0.056592</td>\n",
       "      <td>0.160637</td>\n",
       "      <td>0.74359</td>\n",
       "      <td>1.0</td>\n",
       "      <td>1.0</td>\n",
       "      <td>1.0</td>\n",
       "    </tr>\n",
       "    <tr>\n",
       "      <th>4</th>\n",
       "      <td>LP001008</td>\n",
       "      <td>0.0</td>\n",
       "      <td>0.0</td>\n",
       "      <td>0.000000</td>\n",
       "      <td>1.0</td>\n",
       "      <td>0.0</td>\n",
       "      <td>0.072356</td>\n",
       "      <td>0.000000</td>\n",
       "      <td>0.191027</td>\n",
       "      <td>0.74359</td>\n",
       "      <td>1.0</td>\n",
       "      <td>1.0</td>\n",
       "      <td>1.0</td>\n",
       "    </tr>\n",
       "  </tbody>\n",
       "</table>\n",
       "</div>"
      ],
      "text/plain": [
       "    Loan_ID  Gender  Married  Dependents  Education  Self_Employed  \\\n",
       "0  LP001002     0.0      0.0    0.000000        1.0            0.0   \n",
       "1  LP001003     0.0      1.0    0.333333        1.0            0.0   \n",
       "2  LP001005     0.0      1.0    0.000000        1.0            1.0   \n",
       "3  LP001006     0.0      1.0    0.000000        0.0            0.0   \n",
       "4  LP001008     0.0      0.0    0.000000        1.0            0.0   \n",
       "\n",
       "   ApplicantIncome  CoapplicantIncome  LoanAmount  Loan_Amount_Term  \\\n",
       "0         0.070489           0.000000    0.198860           0.74359   \n",
       "1         0.054830           0.036192    0.172214           0.74359   \n",
       "2         0.035250           0.000000    0.082489           0.74359   \n",
       "3         0.030093           0.056592    0.160637           0.74359   \n",
       "4         0.072356           0.000000    0.191027           0.74359   \n",
       "\n",
       "   Credit_History  Property_Area  Loan_Status  \n",
       "0             1.0            1.0          1.0  \n",
       "1             1.0            0.0          0.0  \n",
       "2             1.0            1.0          1.0  \n",
       "3             1.0            1.0          1.0  \n",
       "4             1.0            1.0          1.0  "
      ]
     },
     "execution_count": 6,
     "metadata": {},
     "output_type": "execute_result"
    }
   ],
   "source": [
    "# looking at the first five rows of the dataset\n",
    "data.head()"
   ]
  },
  {
   "cell_type": "code",
   "execution_count": 7,
   "metadata": {
    "colab": {
     "base_uri": "https://localhost:8080/",
     "height": 260
    },
    "colab_type": "code",
    "id": "2iqbEhkaglK0",
    "outputId": "10fdd584-d6c9-473e-fcfb-abc7dd62592e"
   },
   "outputs": [
    {
     "data": {
      "text/plain": [
       "Loan_ID              0\n",
       "Gender               0\n",
       "Married              0\n",
       "Dependents           0\n",
       "Education            0\n",
       "Self_Employed        0\n",
       "ApplicantIncome      0\n",
       "CoapplicantIncome    0\n",
       "LoanAmount           0\n",
       "Loan_Amount_Term     0\n",
       "Credit_History       0\n",
       "Property_Area        0\n",
       "Loan_Status          0\n",
       "dtype: int64"
      ]
     },
     "execution_count": 7,
     "metadata": {},
     "output_type": "execute_result"
    }
   ],
   "source": [
    "# checking missing values\n",
    "data.isnull().sum()"
   ]
  },
  {
   "cell_type": "code",
   "execution_count": 8,
   "metadata": {
    "colab": {
     "base_uri": "https://localhost:8080/",
     "height": 260
    },
    "colab_type": "code",
    "id": "QOnBYzGnglK-",
    "outputId": "4df9b24f-8955-4b06-f668-b3be91087d4f"
   },
   "outputs": [
    {
     "data": {
      "text/plain": [
       "Loan_ID               object\n",
       "Gender               float64\n",
       "Married              float64\n",
       "Dependents           float64\n",
       "Education            float64\n",
       "Self_Employed        float64\n",
       "ApplicantIncome      float64\n",
       "CoapplicantIncome    float64\n",
       "LoanAmount           float64\n",
       "Loan_Amount_Term     float64\n",
       "Credit_History       float64\n",
       "Property_Area        float64\n",
       "Loan_Status          float64\n",
       "dtype: object"
      ]
     },
     "execution_count": 8,
     "metadata": {},
     "output_type": "execute_result"
    }
   ],
   "source": [
    "# checking the data type\n",
    "data.dtypes"
   ]
  },
  {
   "cell_type": "code",
   "execution_count": 9,
   "metadata": {
    "colab": {},
    "colab_type": "code",
    "id": "TYuwXXuNglLI"
   },
   "outputs": [],
   "source": [
    "# removing the loan_ID since these are just the unique values\n",
    "data = data.drop('Loan_ID', axis=1)"
   ]
  },
  {
   "cell_type": "code",
   "execution_count": 10,
   "metadata": {
    "colab": {
     "base_uri": "https://localhost:8080/",
     "height": 34
    },
    "colab_type": "code",
    "id": "r7XkDkLqglLQ",
    "outputId": "088bd30a-4bd9-4fe4-f85a-29865e5b9fe2"
   },
   "outputs": [
    {
     "data": {
      "text/plain": [
       "(614, 12)"
      ]
     },
     "execution_count": 10,
     "metadata": {},
     "output_type": "execute_result"
    }
   ],
   "source": [
    "# looking at the shape of the data\n",
    "data.shape"
   ]
  },
  {
   "cell_type": "code",
   "execution_count": 11,
   "metadata": {
    "colab": {},
    "colab_type": "code",
    "id": "wy5U75eiglLZ"
   },
   "outputs": [],
   "source": [
    "# separating the independent and dependent variables\n",
    "\n",
    "# storing all the independent variables as X\n",
    "X = data.drop('Loan_Status', axis=1)\n",
    "\n",
    "# storing the dependent variable as y\n",
    "y = data['Loan_Status']"
   ]
  },
  {
   "cell_type": "code",
   "execution_count": 12,
   "metadata": {
    "colab": {
     "base_uri": "https://localhost:8080/",
     "height": 34
    },
    "colab_type": "code",
    "id": "73Z_cXPVglLi",
    "outputId": "ee7c420d-9bdf-412a-c703-08e8f2444576",
    "scrolled": true
   },
   "outputs": [
    {
     "data": {
      "text/plain": [
       "((614, 11), (614,))"
      ]
     },
     "execution_count": 12,
     "metadata": {},
     "output_type": "execute_result"
    }
   ],
   "source": [
    "# shape of independent and dependent variables\n",
    "X.shape, y.shape"
   ]
  },
  {
   "cell_type": "markdown",
   "metadata": {
    "colab_type": "text",
    "id": "2tIAIoEZglLr"
   },
   "source": [
    "## 2. Creating training and validation set"
   ]
  },
  {
   "cell_type": "code",
   "execution_count": 13,
   "metadata": {
    "colab": {},
    "colab_type": "code",
    "id": "4jvMxwYZglLu"
   },
   "outputs": [],
   "source": [
    "# Creating training and validation set\n",
    "\n",
    "# stratify will make sure that the distribution of classes in train and validation set it similar\n",
    "# random state to regenerate the same train and validation set\n",
    "# test size 0.2 will keep 20% data in validation and remaining 80% in train set\n",
    "\n",
    "X_train,X_test,y_train,y_test = train_test_split(X,y,stratify=data['Loan_Status'],random_state=10,test_size=0.2)"
   ]
  },
  {
   "cell_type": "code",
   "execution_count": 14,
   "metadata": {
    "colab": {
     "base_uri": "https://localhost:8080/",
     "height": 34
    },
    "colab_type": "code",
    "id": "3HG0SIb2glL3",
    "outputId": "f29f1d66-8cce-4561-d3f6-30baaf8922fd"
   },
   "outputs": [
    {
     "data": {
      "text/plain": [
       "(((491, 11), (491,)), ((123, 11), (123,)))"
      ]
     },
     "execution_count": 14,
     "metadata": {},
     "output_type": "execute_result"
    }
   ],
   "source": [
    "# shape of training and validation set\n",
    "(X_train.shape, y_train.shape), (X_test.shape, y_test.shape)"
   ]
  },
  {
   "cell_type": "markdown",
   "metadata": {
    "colab_type": "text",
    "id": "e9PNy3T1glL_"
   },
   "source": [
    "## 3. Defining the architecture of the model"
   ]
  },
  {
   "cell_type": "code",
   "execution_count": 15,
   "metadata": {
    "colab": {
     "base_uri": "https://localhost:8080/",
     "height": 52
    },
    "colab_type": "code",
    "id": "IsccfqUYglMC",
    "outputId": "2aefd623-9fbd-4c36-d19a-7f1248bc315a",
    "scrolled": true
   },
   "outputs": [
    {
     "name": "stdout",
     "output_type": "stream",
     "text": [
      "2.4.3\n"
     ]
    }
   ],
   "source": [
    "# checking the version of keras\n",
    "import keras\n",
    "print(keras.__version__)"
   ]
  },
  {
   "cell_type": "code",
   "execution_count": 16,
   "metadata": {
    "colab": {
     "base_uri": "https://localhost:8080/",
     "height": 34
    },
    "colab_type": "code",
    "id": "XMLvwm5wglMK",
    "outputId": "40c074f5-6d22-4e5f-8880-2d12c88821b3"
   },
   "outputs": [
    {
     "name": "stdout",
     "output_type": "stream",
     "text": [
      "2.3.0\n"
     ]
    }
   ],
   "source": [
    "# checking the version of tensorflow\n",
    "import tensorflow as tf\n",
    "print(tf.__version__)"
   ]
  },
  {
   "cell_type": "markdown",
   "metadata": {
    "colab_type": "text",
    "id": "LbHAzzxZglMR"
   },
   "source": [
    "### a. Create a model\n",
    "\n",
    "<img src='https://drive.google.com/uc?id=1iZNZ3kwSHRNf-Irn3DZmMuBb6K-Lro7w'>"
   ]
  },
  {
   "cell_type": "code",
   "execution_count": 17,
   "metadata": {
    "colab": {},
    "colab_type": "code",
    "id": "O-Pl7OO8glMT"
   },
   "outputs": [],
   "source": [
    "# importing the sequential model\n",
    "from keras.models import Sequential"
   ]
  },
  {
   "cell_type": "markdown",
   "metadata": {
    "colab_type": "text",
    "id": "q6SQ3N1NglMZ"
   },
   "source": [
    "### b. Defining different layers\n",
    "\n",
    "<img src='https://drive.google.com/uc?id=16X6De2hua1XJBe3dfmUUeGTgP6PbXEpc'>"
   ]
  },
  {
   "cell_type": "code",
   "execution_count": 18,
   "metadata": {
    "colab": {},
    "colab_type": "code",
    "id": "NDU-YCD0glMb",
    "scrolled": true
   },
   "outputs": [],
   "source": [
    "# importing different layers from keras\n",
    "from keras.layers import InputLayer, Dense "
   ]
  },
  {
   "cell_type": "markdown",
   "metadata": {
    "colab_type": "text",
    "id": "c1I4EF-9glMj"
   },
   "source": [
    "<img src='https://drive.google.com/uc?id=1tsy4B6G0UN4-J4L4roOdoWQiZMUdgw2a'>"
   ]
  },
  {
   "cell_type": "code",
   "execution_count": 19,
   "metadata": {
    "colab": {
     "base_uri": "https://localhost:8080/",
     "height": 34
    },
    "colab_type": "code",
    "id": "xtOwk66BglMl",
    "outputId": "4600bf56-d133-4453-e936-9618e49ec0a7"
   },
   "outputs": [
    {
     "data": {
      "text/plain": [
       "(491, 11)"
      ]
     },
     "execution_count": 19,
     "metadata": {},
     "output_type": "execute_result"
    }
   ],
   "source": [
    "# number of input neurons\n",
    "X_train.shape"
   ]
  },
  {
   "cell_type": "code",
   "execution_count": 20,
   "metadata": {
    "colab": {
     "base_uri": "https://localhost:8080/",
     "height": 34
    },
    "colab_type": "code",
    "id": "dA2TqMbsglMq",
    "outputId": "a2ecf898-134c-4716-d528-a6f20e0afbe8",
    "scrolled": true
   },
   "outputs": [
    {
     "data": {
      "text/plain": [
       "11"
      ]
     },
     "execution_count": 20,
     "metadata": {},
     "output_type": "execute_result"
    }
   ],
   "source": [
    "# number of features in the data\n",
    "X_train.shape[1]"
   ]
  },
  {
   "cell_type": "code",
   "execution_count": 21,
   "metadata": {
    "colab": {},
    "colab_type": "code",
    "id": "ajgIDiLSglMx"
   },
   "outputs": [],
   "source": [
    "# defining input neurons\n",
    "input_neurons = X_train.shape[1]"
   ]
  },
  {
   "cell_type": "markdown",
   "metadata": {
    "colab_type": "text",
    "id": "urOAaBuNglM4"
   },
   "source": [
    "<img src='https://drive.google.com/uc?id=1xL_hM9rGItZjsZ8Lofwzw_9fZUi4bgJo'>"
   ]
  },
  {
   "cell_type": "code",
   "execution_count": 0,
   "metadata": {
    "colab": {},
    "colab_type": "code",
    "id": "fu76LxuVglM6"
   },
   "outputs": [],
   "source": [
    "# number of output neurons\n",
    "\n",
    "# since loan prediction is a binary classification problem, we will have single neuron in the output layer "
   ]
  },
  {
   "cell_type": "code",
   "execution_count": 22,
   "metadata": {
    "colab": {},
    "colab_type": "code",
    "id": "taMhxkl4glNB"
   },
   "outputs": [],
   "source": [
    "# define number of output neurons\n",
    "output_neurons = 1"
   ]
  },
  {
   "cell_type": "code",
   "execution_count": 23,
   "metadata": {
    "colab": {},
    "colab_type": "code",
    "id": "cHsm2c7kglNF"
   },
   "outputs": [],
   "source": [
    "# number of hidden layers and hidden neurons\n",
    "\n",
    "# It is a hyperparameter and we can pick the hidden layers and hidden neurons on our own"
   ]
  },
  {
   "cell_type": "code",
   "execution_count": 34,
   "metadata": {
    "colab": {},
    "colab_type": "code",
    "id": "sMqdeXysqztM"
   },
   "outputs": [],
   "source": [
    "# define hidden layers and neuron in each layer\n",
    "number_of_hidden_layers = 2\n",
    "neuron_hidden_layer_1 = 32\n",
    "neuron_hidden_layer_2 = 32"
   ]
  },
  {
   "cell_type": "code",
   "execution_count": 25,
   "metadata": {
    "colab": {},
    "colab_type": "code",
    "id": "HKTCB3K1glNQ"
   },
   "outputs": [],
   "source": [
    "# activation function of different layers\n",
    "\n",
    "# for now I have picked relu as an activation function for hidden layers, you can change it as well\n",
    "# since it is a binary classification problem, I have used sigmoid activation function in the final layer"
   ]
  },
  {
   "cell_type": "code",
   "execution_count": 43,
   "metadata": {
    "colab": {
     "base_uri": "https://localhost:8080/",
     "height": 141
    },
    "colab_type": "code",
    "id": "lJeV8sQyq1rj",
    "outputId": "1d37a21b-d06f-4461-d479-a8e0e5b2411e"
   },
   "outputs": [],
   "source": [
    "# defining the architecture of the model\n",
    "model = Sequential()\n",
    "model.add(InputLayer(input_shape=(input_neurons,)))\n",
    "model.add(Dense(units=neuron_hidden_layer_1, activation='relu'))\n",
    "model.add(Dense(units=neuron_hidden_layer_2, activation='relu'))\n",
    "model.add(Dense(units=output_neurons, activation='sigmoid'))"
   ]
  },
  {
   "cell_type": "code",
   "execution_count": 36,
   "metadata": {
    "colab": {
     "base_uri": "https://localhost:8080/",
     "height": 260
    },
    "colab_type": "code",
    "id": "E9tXg_08q3n0",
    "outputId": "478c6811-7326-4ea5-dbd8-cb5aef5bc76e"
   },
   "outputs": [
    {
     "name": "stdout",
     "output_type": "stream",
     "text": [
      "Model: \"sequential_1\"\n",
      "_________________________________________________________________\n",
      "Layer (type)                 Output Shape              Param #   \n",
      "=================================================================\n",
      "dense_3 (Dense)              (None, 32)                384       \n",
      "_________________________________________________________________\n",
      "dense_4 (Dense)              (None, 32)                1056      \n",
      "_________________________________________________________________\n",
      "dense_5 (Dense)              (None, 1)                 33        \n",
      "=================================================================\n",
      "Total params: 1,473\n",
      "Trainable params: 1,473\n",
      "Non-trainable params: 0\n",
      "_________________________________________________________________\n"
     ]
    }
   ],
   "source": [
    "# summary of the model\n",
    "model.summary()"
   ]
  },
  {
   "cell_type": "code",
   "execution_count": 37,
   "metadata": {
    "colab": {
     "base_uri": "https://localhost:8080/",
     "height": 34
    },
    "colab_type": "code",
    "id": "PnsVNEbZglNf",
    "outputId": "0cff710b-3396-4072-b35f-86d56f415922"
   },
   "outputs": [
    {
     "data": {
      "text/plain": [
       "352"
      ]
     },
     "execution_count": 37,
     "metadata": {},
     "output_type": "execute_result"
    }
   ],
   "source": [
    "# number of parameters between input and first hidden layer\n",
    "\n",
    "input_neurons*neuron_hidden_layer_1"
   ]
  },
  {
   "cell_type": "code",
   "execution_count": 38,
   "metadata": {
    "colab": {
     "base_uri": "https://localhost:8080/",
     "height": 34
    },
    "colab_type": "code",
    "id": "npisFmvIglNl",
    "outputId": "3dd0fe81-ec95-4a3d-eb1f-3cb560ea134a",
    "scrolled": true
   },
   "outputs": [
    {
     "data": {
      "text/plain": [
       "362"
      ]
     },
     "execution_count": 38,
     "metadata": {},
     "output_type": "execute_result"
    }
   ],
   "source": [
    "# number of parameters between input and first hidden layer\n",
    "\n",
    "# adding the bias for each neuron of first hidden layer\n",
    "\n",
    "input_neurons*neuron_hidden_layer_1 + 10"
   ]
  },
  {
   "cell_type": "code",
   "execution_count": 39,
   "metadata": {
    "colab": {
     "base_uri": "https://localhost:8080/",
     "height": 34
    },
    "colab_type": "code",
    "id": "j37Xpr-8glNq",
    "outputId": "47b9b623-5fef-49cb-af33-99a4b28cf7a6"
   },
   "outputs": [
    {
     "data": {
      "text/plain": [
       "1029"
      ]
     },
     "execution_count": 39,
     "metadata": {},
     "output_type": "execute_result"
    }
   ],
   "source": [
    "# number of parameters between first and second hidden layer\n",
    "\n",
    "neuron_hidden_layer_1*neuron_hidden_layer_2 + 5"
   ]
  },
  {
   "cell_type": "code",
   "execution_count": 40,
   "metadata": {
    "colab": {
     "base_uri": "https://localhost:8080/",
     "height": 34
    },
    "colab_type": "code",
    "id": "UXrvaFnXglNu",
    "outputId": "a0296d75-8754-41aa-f090-dd97200c5288"
   },
   "outputs": [
    {
     "data": {
      "text/plain": [
       "33"
      ]
     },
     "execution_count": 40,
     "metadata": {},
     "output_type": "execute_result"
    }
   ],
   "source": [
    "# number of parameters between second hidden and output layer\n",
    "\n",
    "neuron_hidden_layer_2*output_neurons + 1"
   ]
  },
  {
   "cell_type": "markdown",
   "metadata": {
    "colab_type": "text",
    "id": "xm1bbbE_glNz"
   },
   "source": [
    "## 4. Compiling the model (defining loss function, optimizer)"
   ]
  },
  {
   "cell_type": "code",
   "execution_count": 45,
   "metadata": {
    "colab": {
     "base_uri": "https://localhost:8080/",
     "height": 159
    },
    "colab_type": "code",
    "id": "P6hqkDWIglN0",
    "outputId": "985326f0-f71a-4646-f113-6844db41b2f3"
   },
   "outputs": [],
   "source": [
    "# compiling the model\n",
    "\n",
    "# loss as binary_crossentropy, since we have binary classification problem\n",
    "# defining the optimizer as adam\n",
    "# Evaluation metric as accuracy\n",
    "\n",
    "model.compile(loss='binary_crossentropy',optimizer='Adam',metrics=['accuracy'])"
   ]
  },
  {
   "cell_type": "markdown",
   "metadata": {
    "colab_type": "text",
    "id": "T1oVMpRMglN5"
   },
   "source": [
    "## 5. Training the model"
   ]
  },
  {
   "cell_type": "code",
   "execution_count": 46,
   "metadata": {
    "colab": {
     "base_uri": "https://localhost:8080/",
     "height": 1000
    },
    "colab_type": "code",
    "id": "pViJI3-TglN6",
    "outputId": "5833bd46-ca45-4644-9b4b-35e6ba628e48",
    "scrolled": true
   },
   "outputs": [
    {
     "name": "stdout",
     "output_type": "stream",
     "text": [
      "Epoch 1/50\n",
      "16/16 [==============================] - 1s 33ms/step - loss: 0.6299 - accuracy: 0.6864 - val_loss: 0.6061 - val_accuracy: 0.6911\n",
      "Epoch 2/50\n",
      "16/16 [==============================] - 0s 5ms/step - loss: 0.6051 - accuracy: 0.6864 - val_loss: 0.5972 - val_accuracy: 0.6911\n",
      "Epoch 3/50\n",
      "16/16 [==============================] - 0s 5ms/step - loss: 0.5957 - accuracy: 0.6864 - val_loss: 0.5912 - val_accuracy: 0.6911\n",
      "Epoch 4/50\n",
      "16/16 [==============================] - 0s 6ms/step - loss: 0.5874 - accuracy: 0.6864 - val_loss: 0.5853 - val_accuracy: 0.6911\n",
      "Epoch 5/50\n",
      "16/16 [==============================] - 0s 5ms/step - loss: 0.5791 - accuracy: 0.6884 - val_loss: 0.5781 - val_accuracy: 0.7073\n",
      "Epoch 6/50\n",
      "16/16 [==============================] - 0s 5ms/step - loss: 0.5723 - accuracy: 0.6925 - val_loss: 0.5719 - val_accuracy: 0.6992\n",
      "Epoch 7/50\n",
      "16/16 [==============================] - 0s 5ms/step - loss: 0.5641 - accuracy: 0.7067 - val_loss: 0.5655 - val_accuracy: 0.6992\n",
      "Epoch 8/50\n",
      "16/16 [==============================] - 0s 5ms/step - loss: 0.5558 - accuracy: 0.7291 - val_loss: 0.5583 - val_accuracy: 0.7480\n",
      "Epoch 9/50\n",
      "16/16 [==============================] - 0s 6ms/step - loss: 0.5476 - accuracy: 0.7536 - val_loss: 0.5501 - val_accuracy: 0.7642\n",
      "Epoch 10/50\n",
      "16/16 [==============================] - 0s 5ms/step - loss: 0.5382 - accuracy: 0.7800 - val_loss: 0.5418 - val_accuracy: 0.7724\n",
      "Epoch 11/50\n",
      "16/16 [==============================] - 0s 5ms/step - loss: 0.5277 - accuracy: 0.7943 - val_loss: 0.5332 - val_accuracy: 0.7886\n",
      "Epoch 12/50\n",
      "16/16 [==============================] - 0s 5ms/step - loss: 0.5182 - accuracy: 0.7963 - val_loss: 0.5245 - val_accuracy: 0.8049\n",
      "Epoch 13/50\n",
      "16/16 [==============================] - 0s 6ms/step - loss: 0.5094 - accuracy: 0.8086 - val_loss: 0.5142 - val_accuracy: 0.8130\n",
      "Epoch 14/50\n",
      "16/16 [==============================] - 0s 5ms/step - loss: 0.5008 - accuracy: 0.8106 - val_loss: 0.5032 - val_accuracy: 0.8130\n",
      "Epoch 15/50\n",
      "16/16 [==============================] - 0s 5ms/step - loss: 0.4916 - accuracy: 0.8106 - val_loss: 0.4940 - val_accuracy: 0.8130\n",
      "Epoch 16/50\n",
      "16/16 [==============================] - 0s 6ms/step - loss: 0.4808 - accuracy: 0.8106 - val_loss: 0.4886 - val_accuracy: 0.8130\n",
      "Epoch 17/50\n",
      "16/16 [==============================] - 0s 5ms/step - loss: 0.4747 - accuracy: 0.8106 - val_loss: 0.4837 - val_accuracy: 0.8130\n",
      "Epoch 18/50\n",
      "16/16 [==============================] - 0s 6ms/step - loss: 0.4736 - accuracy: 0.8106 - val_loss: 0.4816 - val_accuracy: 0.8130\n",
      "Epoch 19/50\n",
      "16/16 [==============================] - 0s 6ms/step - loss: 0.4649 - accuracy: 0.8106 - val_loss: 0.4815 - val_accuracy: 0.8130\n",
      "Epoch 20/50\n",
      "16/16 [==============================] - 0s 5ms/step - loss: 0.4642 - accuracy: 0.8106 - val_loss: 0.4809 - val_accuracy: 0.8130\n",
      "Epoch 21/50\n",
      "16/16 [==============================] - 0s 5ms/step - loss: 0.4659 - accuracy: 0.8106 - val_loss: 0.4798 - val_accuracy: 0.8130\n",
      "Epoch 22/50\n",
      "16/16 [==============================] - 0s 5ms/step - loss: 0.4582 - accuracy: 0.8126 - val_loss: 0.4818 - val_accuracy: 0.8130\n",
      "Epoch 23/50\n",
      "16/16 [==============================] - 0s 6ms/step - loss: 0.4590 - accuracy: 0.8126 - val_loss: 0.4770 - val_accuracy: 0.8130\n",
      "Epoch 24/50\n",
      "16/16 [==============================] - 0s 5ms/step - loss: 0.4588 - accuracy: 0.8106 - val_loss: 0.4768 - val_accuracy: 0.8130\n",
      "Epoch 25/50\n",
      "16/16 [==============================] - 0s 5ms/step - loss: 0.4542 - accuracy: 0.8126 - val_loss: 0.4785 - val_accuracy: 0.8130\n",
      "Epoch 26/50\n",
      "16/16 [==============================] - 0s 5ms/step - loss: 0.4534 - accuracy: 0.8126 - val_loss: 0.4777 - val_accuracy: 0.8130\n",
      "Epoch 27/50\n",
      "16/16 [==============================] - 0s 5ms/step - loss: 0.4521 - accuracy: 0.8126 - val_loss: 0.4797 - val_accuracy: 0.8130\n",
      "Epoch 28/50\n",
      "16/16 [==============================] - 0s 6ms/step - loss: 0.4507 - accuracy: 0.8126 - val_loss: 0.4789 - val_accuracy: 0.8130\n",
      "Epoch 29/50\n",
      "16/16 [==============================] - 0s 5ms/step - loss: 0.4512 - accuracy: 0.8126 - val_loss: 0.4792 - val_accuracy: 0.8130\n",
      "Epoch 30/50\n",
      "16/16 [==============================] - 0s 5ms/step - loss: 0.4505 - accuracy: 0.8126 - val_loss: 0.4792 - val_accuracy: 0.8130\n",
      "Epoch 31/50\n",
      "16/16 [==============================] - 0s 5ms/step - loss: 0.4489 - accuracy: 0.8126 - val_loss: 0.4820 - val_accuracy: 0.8130\n",
      "Epoch 32/50\n",
      "16/16 [==============================] - 0s 5ms/step - loss: 0.4491 - accuracy: 0.8126 - val_loss: 0.4814 - val_accuracy: 0.8130\n",
      "Epoch 33/50\n",
      "16/16 [==============================] - 0s 5ms/step - loss: 0.4493 - accuracy: 0.8126 - val_loss: 0.4815 - val_accuracy: 0.8130\n",
      "Epoch 34/50\n",
      "16/16 [==============================] - 0s 5ms/step - loss: 0.4463 - accuracy: 0.8126 - val_loss: 0.4812 - val_accuracy: 0.8130\n",
      "Epoch 35/50\n",
      "16/16 [==============================] - 0s 5ms/step - loss: 0.4455 - accuracy: 0.8126 - val_loss: 0.4811 - val_accuracy: 0.8130\n",
      "Epoch 36/50\n",
      "16/16 [==============================] - 0s 5ms/step - loss: 0.4453 - accuracy: 0.8126 - val_loss: 0.4848 - val_accuracy: 0.8130\n",
      "Epoch 37/50\n",
      "16/16 [==============================] - 0s 5ms/step - loss: 0.4501 - accuracy: 0.8126 - val_loss: 0.4854 - val_accuracy: 0.8130\n",
      "Epoch 38/50\n",
      "16/16 [==============================] - 0s 5ms/step - loss: 0.4425 - accuracy: 0.8126 - val_loss: 0.4885 - val_accuracy: 0.8130\n",
      "Epoch 39/50\n",
      "16/16 [==============================] - 0s 5ms/step - loss: 0.4473 - accuracy: 0.8147 - val_loss: 0.4851 - val_accuracy: 0.8130\n",
      "Epoch 40/50\n",
      "16/16 [==============================] - 0s 5ms/step - loss: 0.4424 - accuracy: 0.8126 - val_loss: 0.4858 - val_accuracy: 0.8130\n",
      "Epoch 41/50\n",
      "16/16 [==============================] - 0s 5ms/step - loss: 0.4427 - accuracy: 0.8126 - val_loss: 0.4865 - val_accuracy: 0.8130\n",
      "Epoch 42/50\n",
      "16/16 [==============================] - 0s 5ms/step - loss: 0.4436 - accuracy: 0.8126 - val_loss: 0.4882 - val_accuracy: 0.8130\n",
      "Epoch 43/50\n",
      "16/16 [==============================] - 0s 5ms/step - loss: 0.4403 - accuracy: 0.8126 - val_loss: 0.4886 - val_accuracy: 0.8049\n",
      "Epoch 44/50\n",
      "16/16 [==============================] - 0s 5ms/step - loss: 0.4440 - accuracy: 0.8147 - val_loss: 0.4881 - val_accuracy: 0.8130\n",
      "Epoch 45/50\n",
      "16/16 [==============================] - 0s 5ms/step - loss: 0.4559 - accuracy: 0.8126 - val_loss: 0.4876 - val_accuracy: 0.8049\n",
      "Epoch 46/50\n",
      "16/16 [==============================] - 0s 6ms/step - loss: 0.4455 - accuracy: 0.8187 - val_loss: 0.4904 - val_accuracy: 0.8049\n",
      "Epoch 47/50\n",
      "16/16 [==============================] - 0s 6ms/step - loss: 0.4455 - accuracy: 0.8126 - val_loss: 0.4865 - val_accuracy: 0.8049\n",
      "Epoch 48/50\n",
      "16/16 [==============================] - 0s 7ms/step - loss: 0.4374 - accuracy: 0.8126 - val_loss: 0.4902 - val_accuracy: 0.7967\n",
      "Epoch 49/50\n",
      "16/16 [==============================] - 0s 6ms/step - loss: 0.4410 - accuracy: 0.8167 - val_loss: 0.4924 - val_accuracy: 0.8049\n",
      "Epoch 50/50\n",
      "16/16 [==============================] - 0s 7ms/step - loss: 0.4352 - accuracy: 0.8126 - val_loss: 0.4891 - val_accuracy: 0.8049\n"
     ]
    }
   ],
   "source": [
    "# training the model\n",
    "\n",
    "# passing the independent and dependent features for training set for training the model\n",
    "\n",
    "# validation data will be evaluated at the end of each epoch\n",
    "\n",
    "# setting the epochs as 50\n",
    "\n",
    "# storing the trained model in model_history variable which will be used to visualize the training process\n",
    "\n",
    "model_history = model.fit(X_train, y_train, validation_data=(X_test, y_test), epochs=50, verbose=1)"
   ]
  },
  {
   "cell_type": "markdown",
   "metadata": {
    "colab_type": "text",
    "id": "hBZ_3aumglN9"
   },
   "source": [
    "## 6. Evaluating model performance on validation set"
   ]
  },
  {
   "cell_type": "code",
   "execution_count": 48,
   "metadata": {
    "colab": {},
    "colab_type": "code",
    "id": "qpBoHi7jglN_"
   },
   "outputs": [],
   "source": [
    "# getting predictions for the validation set\n",
    "prediction = model.predict_classes(X_test)"
   ]
  },
  {
   "cell_type": "code",
   "execution_count": 49,
   "metadata": {
    "colab": {
     "base_uri": "https://localhost:8080/",
     "height": 34
    },
    "colab_type": "code",
    "id": "jMapdscmglOD",
    "outputId": "ccee745a-996a-483c-a74c-758e01340f6b"
   },
   "outputs": [
    {
     "data": {
      "text/plain": [
       "0.8048780487804879"
      ]
     },
     "execution_count": 49,
     "metadata": {},
     "output_type": "execute_result"
    }
   ],
   "source": [
    "# calculating the accuracy on validation set\n",
    "accuracy_score(y_test, prediction)"
   ]
  },
  {
   "cell_type": "markdown",
   "metadata": {
    "colab_type": "text",
    "id": "rLvGzvLcglOH"
   },
   "source": [
    "### Visualizing the model performance"
   ]
  },
  {
   "cell_type": "code",
   "execution_count": 50,
   "metadata": {
    "colab": {
     "base_uri": "https://localhost:8080/",
     "height": 295
    },
    "colab_type": "code",
    "id": "68APv0UuglOI",
    "outputId": "46fd92e3-6329-40c1-c8d0-d3eb7379ed2a"
   },
   "outputs": [
    {
     "data": {
      "image/png": "[encoded data removed]",
      "text/plain": [
       "<Figure size 432x288 with 1 Axes>"
      ]
     },
     "metadata": {
      "needs_background": "light"
     },
     "output_type": "display_data"
    }
   ],
   "source": [
    "# summarize history for loss\n",
    "plt.plot(model_history.history['loss'])\n",
    "plt.plot(model_history.history['val_loss'])\n",
    "plt.title('model loss')\n",
    "plt.ylabel('loss')\n",
    "plt.xlabel('epoch')\n",
    "plt.legend(['train', 'validation'], loc='upper left')\n",
    "plt.show()"
   ]
  },
  {
   "cell_type": "code",
   "execution_count": 56,
   "metadata": {
    "colab": {
     "base_uri": "https://localhost:8080/",
     "height": 295
    },
    "colab_type": "code",
    "id": "AiKe0wBbglOM",
    "outputId": "13936495-ec8a-4899-fbb3-b4ff7d1a5dc9"
   },
   "outputs": [
    {
     "data": {
      "image/png": "[encoded data removed]",
      "text/plain": [
       "<Figure size 432x288 with 1 Axes>"
      ]
     },
     "metadata": {
      "needs_background": "light"
     },
     "output_type": "display_data"
    }
   ],
   "source": [
    "# summarize history for accuracy\n",
    "plt.plot(model_history.history['accuracy'])\n",
    "plt.plot(model_history.history['val_accuracy'])\n",
    "plt.title('model accuracy')\n",
    "plt.ylabel('accuracy')\n",
    "plt.xlabel('epoch')\n",
    "plt.legend(['train', 'validation'], loc='upper left')\n",
    "plt.show()"
   ]
  },
  {
   "cell_type": "code",
   "execution_count": 0,
   "metadata": {
    "colab": {},
    "colab_type": "code",
    "id": "tvVzU1Gwu7mb"
   },
   "outputs": [],
   "source": []
  }
 ],
 "metadata": {
  "accelerator": "GPU",
  "colab": {
   "collapsed_sections": [],
   "name": "9.5 Solving Loan Prediction problem using Neural Network.ipynb",
   "provenance": []
  },
  "kernelspec": {
   "display_name": "Python 3",
   "language": "python",
   "name": "python3"
  },
  "language_info": {
   "codemirror_mode": {
    "name": "ipython",
    "version": 3
   },
   "file_extension": ".py",
   "mimetype": "text/x-python",
   "name": "python",
   "nbconvert_exporter": "python",
   "pygments_lexer": "ipython3",
   "version": "3.8.5"
  }
 },
 "nbformat": 4,
 "nbformat_minor": 1
}
